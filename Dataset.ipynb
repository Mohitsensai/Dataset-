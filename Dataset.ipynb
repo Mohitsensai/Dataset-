{
 "cells": [
  {
   "cell_type": "code",
   "execution_count": 1,
   "id": "94f3a5a1-f8c7-400d-bfdb-b374d9b673ed",
   "metadata": {},
   "outputs": [],
   "source": [
    "# Loading the Dataset\n",
    "\n",
    "import pandas as pd\n",
    "import numpy as np\n",
    "import matplotlib.pyplot as plt\n",
    "import seaborn as sns"
   ]
  },
  {
   "cell_type": "code",
   "execution_count": 2,
   "id": "c1c285b3-a90f-40b5-ad5f-be221ee0df41",
   "metadata": {},
   "outputs": [
    {
     "name": "stdout",
     "output_type": "stream",
     "text": [
      "Dataset :- \n",
      "<class 'pandas.core.frame.DataFrame'>\n",
      "RangeIndex: 891 entries, 0 to 890\n",
      "Data columns (total 15 columns):\n",
      " #   Column       Non-Null Count  Dtype   \n",
      "---  ------       --------------  -----   \n",
      " 0   survived     891 non-null    int64   \n",
      " 1   pclass       891 non-null    int64   \n",
      " 2   sex          891 non-null    object  \n",
      " 3   age          714 non-null    float64 \n",
      " 4   sibsp        891 non-null    int64   \n",
      " 5   parch        891 non-null    int64   \n",
      " 6   fare         891 non-null    float64 \n",
      " 7   embarked     889 non-null    object  \n",
      " 8   class        891 non-null    category\n",
      " 9   who          891 non-null    object  \n",
      " 10  adult_male   891 non-null    bool    \n",
      " 11  deck         203 non-null    category\n",
      " 12  embark_town  889 non-null    object  \n",
      " 13  alive        891 non-null    object  \n",
      " 14  alone        891 non-null    bool    \n",
      "dtypes: bool(2), category(2), float64(2), int64(4), object(5)\n",
      "memory usage: 80.7+ KB\n",
      "None\n",
      "/nFirst 5 rows :- \n",
      "   survived  pclass     sex   age  sibsp  parch     fare embarked  class  \\\n",
      "0         0       3    male  22.0      1      0   7.2500        S  Third   \n",
      "1         1       1  female  38.0      1      0  71.2833        C  First   \n",
      "2         1       3  female  26.0      0      0   7.9250        S  Third   \n",
      "3         1       1  female  35.0      1      0  53.1000        S  First   \n",
      "4         0       3    male  35.0      0      0   8.0500        S  Third   \n",
      "\n",
      "     who  adult_male deck  embark_town alive  alone  \n",
      "0    man        True  NaN  Southampton    no  False  \n",
      "1  woman       False    C    Cherbourg   yes  False  \n",
      "2  woman       False  NaN  Southampton   yes   True  \n",
      "3  woman       False    C  Southampton   yes  False  \n",
      "4    man        True  NaN  Southampton    no   True  \n",
      "\n",
      "Summary stats :- \n",
      "         survived      pclass         age       sibsp       parch        fare\n",
      "count  891.000000  891.000000  714.000000  891.000000  891.000000  891.000000\n",
      "mean     0.383838    2.308642   29.699118    0.523008    0.381594   32.204208\n",
      "std      0.486592    0.836071   14.526497    1.102743    0.806057   49.693429\n",
      "min      0.000000    1.000000    0.420000    0.000000    0.000000    0.000000\n",
      "25%      0.000000    2.000000   20.125000    0.000000    0.000000    7.910400\n",
      "50%      0.000000    3.000000   28.000000    0.000000    0.000000   14.454200\n",
      "75%      1.000000    3.000000   38.000000    1.000000    0.000000   31.000000\n",
      "max      1.000000    3.000000   80.000000    8.000000    6.000000  512.329200\n"
     ]
    }
   ],
   "source": [
    "df = sns.load_dataset('titanic')\n",
    "\n",
    "print(\"Dataset :- \")\n",
    "print(df.info())  #detail of columnss and its data types\n",
    "print(\"/nFirst 5 rows :- \")\n",
    "print(df.head()) #first 5 rows\n",
    "print(\"\\nSummary stats :- \")\n",
    "print(df.describe()) #showing the statistics of columns its avg,max,min"
   ]
  },
  {
   "cell_type": "code",
   "execution_count": 3,
   "id": "f6566c17-482a-4aa3-ae9a-f9ff168e1183",
   "metadata": {},
   "outputs": [
    {
     "name": "stdout",
     "output_type": "stream",
     "text": [
      "Missing values :\n",
      " survived         0\n",
      "pclass           0\n",
      "sex              0\n",
      "age            177\n",
      "sibsp            0\n",
      "parch            0\n",
      "fare             0\n",
      "embarked         2\n",
      "class            0\n",
      "who              0\n",
      "adult_male       0\n",
      "deck           688\n",
      "embark_town      2\n",
      "alive            0\n",
      "alone            0\n",
      "dtype: int64\n",
      "\n",
      " After fixing , missing values :\n",
      " survived       0\n",
      "pclass         0\n",
      "sex            0\n",
      "age            0\n",
      "sibsp          0\n",
      "parch          0\n",
      "fare           0\n",
      "embarked       0\n",
      "class          0\n",
      "who            0\n",
      "adult_male     0\n",
      "embark_town    2\n",
      "alive          0\n",
      "alone          0\n",
      "dtype: int64\n"
     ]
    }
   ],
   "source": [
    "\n",
    "#Finding the missing values\n",
    "\n",
    "print(\"Missing values :\\n\", df.isnull().sum())\n",
    "\n",
    "df['age'].fillna(df['age'].median(), inplace=True) #gaps in age\n",
    "\n",
    "df['embarked'].fillna(df['embarked'].mode()[0], inplace=True) #finding gaps and filling with common values\n",
    "\n",
    "df.drop(columns=['deck'], inplace=True, errors='ignore') #for any large number of missing dataset\n",
    "\n",
    "print(\"\\n After fixing , missing values :\\n\",df.isnull().sum()) #again check any missing values"
   ]
  },
  {
   "cell_type": "code",
   "execution_count": 4,
   "id": "4d7192a6-bf01-44f5-aa3b-0c63e6acf3b0",
   "metadata": {},
   "outputs": [
    {
     "name": "stdout",
     "output_type": "stream",
     "text": [
      "\n",
      "After encoding :\n",
      "    survived  pclass  sex   age  sibsp  parch     fare  class    who  \\\n",
      "0         0       3    0  22.0      1      0   7.2500  Third    man   \n",
      "1         1       1    1  38.0      1      0  71.2833  First  woman   \n",
      "2         1       3    1  26.0      0      0   7.9250  Third  woman   \n",
      "3         1       1    1  35.0      1      0  53.1000  First  woman   \n",
      "4         0       3    0  35.0      0      0   8.0500  Third    man   \n",
      "\n",
      "   adult_male  embark_town alive  alone  embarked_Q  embarked_S  \n",
      "0        True  Southampton    no  False       False        True  \n",
      "1       False    Cherbourg   yes  False       False       False  \n",
      "2       False  Southampton   yes   True       False        True  \n",
      "3       False  Southampton   yes  False       False        True  \n",
      "4        True  Southampton    no   True       False        True  \n"
     ]
    }
   ],
   "source": [
    "#Making categorical into numberical\n",
    "\n",
    "df['sex'] = df['sex'].map({'male':0,'female':1})# converting sex into binary (1 and 0)\n",
    "\n",
    "df = pd.get_dummies(df,columns=['embarked'], prefix='embarked', drop_first = True)\n",
    "\n",
    "print(\"\\nAfter encoding :\\n\" , df.head())\n"
   ]
  },
  {
   "cell_type": "code",
   "execution_count": 6,
   "id": "9d92cf6c-6717-4311-9ca8-8d25e2c9fe47",
   "metadata": {},
   "outputs": [
    {
     "name": "stdout",
     "output_type": "stream",
     "text": [
      "\n",
      "After scaling:\n",
      "         age      fare\n",
      "0 -0.565736 -0.502445\n",
      "1  0.663861  0.786845\n",
      "2 -0.258337 -0.488854\n",
      "3  0.433312  0.420730\n",
      "4  0.433312 -0.486337\n"
     ]
    }
   ],
   "source": [
    "#Normalize the numerical feature\n",
    "\n",
    "from sklearn.preprocessing import StandardScaler\n",
    "\n",
    "# Numerical columns chuno\n",
    "num_cols = ['age', 'fare']\n",
    "\n",
    "# StandardScaler use  (mean = 0, std = 1)\n",
    "scaler = StandardScaler()\n",
    "df[num_cols] = scaler.fit_transform(df[num_cols])\n",
    "\n",
    "# Check karo scaled data\n",
    "print(\"\\nAfter scaling:\\n\", df[num_cols].head())"
   ]
  },
  {
   "cell_type": "code",
   "execution_count": 7,
   "id": "01d61654-23eb-4dd2-9d8c-a1845f718a4d",
   "metadata": {},
   "outputs": [
    {
     "data": {
      "image/png": "[encoded data removed]",
      "text/plain": [
       "<Figure size 1000x600 with 1 Axes>"
      ]
     },
     "metadata": {},
     "output_type": "display_data"
    },
    {
     "name": "stdout",
     "output_type": "stream",
     "text": [
      "\n",
      "After removing outliers, shape: (718, 15)\n"
     ]
    }
   ],
   "source": [
    "# Boxplot banao\n",
    "plt.figure(figsize=(10, 6))\n",
    "sns.boxplot(data=df[['age', 'fare']])\n",
    "plt.title(\"Boxplot of Age and Fare\")\n",
    "plt.show()\n",
    "\n",
    "# Outliers remove karo (IQR method)\n",
    "for col in ['age', 'fare']:\n",
    "    Q1 = df[col].quantile(0.25)\n",
    "    Q3 = df[col].quantile(0.75)\n",
    "    IQR = Q3 - Q1\n",
    "    lower_bound = Q1 - 1.5 * IQR\n",
    "    upper_bound = Q3 + 1.5 * IQR\n",
    "    df = df[(df[col] >= lower_bound) & (df[col] <= upper_bound)]\n",
    "\n",
    "# Check karo cleaned data\n",
    "print(\"\\nAfter removing outliers, shape:\", df.shape)"
   ]
  },
  {
   "cell_type": "code",
   "execution_count": null,
   "id": "d666199a-99b1-4a49-a49b-daf6561a5029",
   "metadata": {},
   "outputs": [],
   "source": []
  }
 ],
 "metadata": {
  "kernelspec": {
   "display_name": "Python 3 (ipykernel)",
   "language": "python",
   "name": "python3"
  },
  "language_info": {
   "codemirror_mode": {
    "name": "ipython",
    "version": 3
   },
   "file_extension": ".py",
   "mimetype": "text/x-python",
   "name": "python",
   "nbconvert_exporter": "python",
   "pygments_lexer": "ipython3",
   "version": "3.11.7"
  }
 },
 "nbformat": 4,
 "nbformat_minor": 5
}
